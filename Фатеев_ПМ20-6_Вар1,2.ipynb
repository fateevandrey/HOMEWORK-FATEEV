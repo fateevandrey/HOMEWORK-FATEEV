{
 "cells": [
  {
   "cell_type": "markdown",
   "metadata": {},
   "source": [
    "Файлы именуются в виде \"Фамилия\\_Группа\\_Вар\\_номер.ipynb\". Пример: \"Милованов\\_ПИ1-2\\_Вар\\_1.ipynb\""
   ]
  },
  {
   "cell_type": "markdown",
   "metadata": {},
   "source": [
    "Не забываем про try-except. Везде, где вы считаете, что может вылететь ошибка, вставляем try except"
   ]
  },
  {
   "cell_type": "markdown",
   "metadata": {},
   "source": [
    "Даны файлы students.csv, results.csv, groups.csv, subjects.csv, teachers.csv. Разделены \";\"\n",
    "\n",
    "Файл groups.csv имеет столбцы id, text_name, entry_year, где id - уникиальный идентификатор группы, text_name - наименование группы, entry_year - год поступления. \n",
    "\n",
    "students.csv имеет следующие столбцы: id, first_name, last_name, group_id, где id - уникальный идентификатор студента (номер зачетной книжки), first_name - Имя, last_name - фамилия, group_id - идентификатор группы, в которой он учится.\n",
    "\n",
    "result.csv имеет следующие столбцы: id - уникальный идентификатор записи, subject_id - идентификатор учебного предмета, student_id - уникальный идентификатор студента, att1 - результат первой аттестации, att2 - результат второй аттестации, exam - результат экзаменнационной или зачетной работы, total - общий результат, teacher_id - уникальный идентификатор преподавателя.\n",
    "\n",
    "subjects.csv имеет следующие столбцы: id - уникальный идентификатор предмета, subject_name - наименование предмета.\n",
    "\n",
    "teachers.csv: id - уникальный идентификатор преподавателя, first_name - Имя, last_name - фамилия, middle_name - отчество"
   ]
  },
  {
   "cell_type": "code",
   "execution_count": 2,
   "metadata": {},
   "outputs": [],
   "source": [
    "import csv\n",
    "\n",
    "results = []\n",
    "with open('./Downloads/results.csv', encoding = 'cp1251') as csvfile:\n",
    "    reader = csv.DictReader(csvfile, delimiter=';')\n",
    "    for row in reader:\n",
    "        results.append(row)\n",
    "\n",
    "students = {}\n",
    "with open('./Downloads/students.csv', encoding = 'cp1251') as csvfile:\n",
    "    reader = csv.DictReader(csvfile, delimiter=';')\n",
    "    for row in reader:\n",
    "        students[row['id']] = row\n",
    "        \n",
    "teachers = []\n",
    "with open('./Downloads/teachers.csv', encoding = 'cp1251') as csvfile:\n",
    "    reader = csv.DictReader(csvfile, delimiter=';')\n",
    "    for row in reader:\n",
    "        teachers.append(row)\n",
    "        teachers[-1]['students'] = []\n",
    "        teachers[-1]['groups'] = set()\n",
    "        teachers[-1]['subjects'] = set()\n",
    "        \n",
    "groups = []\n",
    "with open('./Downloads/groups.csv', encoding = 'cp1251') as csvfile:\n",
    "    reader = csv.DictReader(csvfile, delimiter=';')\n",
    "    for row in reader:\n",
    "        groups.append(row)\n",
    "        \n",
    "subjects = {}\n",
    "with open('./Downloads/subjects.csv', encoding='cp1251') as csvfile:\n",
    "    reader = csv.DictReader(csvfile, delimiter=';')\n",
    "    for row in reader:\n",
    "        subjects[row['id']] = row['subject_name']"
   ]
  },
  {
   "cell_type": "code",
   "execution_count": 3,
   "metadata": {},
   "outputs": [
    {
     "data": {
      "text/plain": [
       "OrderedDict([('id', '1'),\n",
       "             ('subject', '1'),\n",
       "             ('student_id', '151301'),\n",
       "             ('teacher_id', '7'),\n",
       "             ('att1', '19'),\n",
       "             ('att2', '13'),\n",
       "             ('exam', '48'),\n",
       "             ('total', '80')])"
      ]
     },
     "execution_count": 3,
     "metadata": {},
     "output_type": "execute_result"
    }
   ],
   "source": [
    "results[0]"
   ]
  },
  {
   "cell_type": "code",
   "execution_count": 4,
   "metadata": {},
   "outputs": [
    {
     "data": {
      "text/plain": [
       "OrderedDict([('id', '151301'),\n",
       "             ('last_name', 'Абарыков'),\n",
       "             ('first_name', 'Андрей'),\n",
       "             ('group_id', '13')])"
      ]
     },
     "execution_count": 4,
     "metadata": {},
     "output_type": "execute_result"
    }
   ],
   "source": [
    "students['151301'] # students -> group"
   ]
  },
  {
   "cell_type": "code",
   "execution_count": 5,
   "metadata": {},
   "outputs": [
    {
     "data": {
      "text/plain": [
       "{'1': 'Web-программирование',\n",
       " '2': 'Алгоритмы и структуры данных',\n",
       " '3': 'Английский язык',\n",
       " '4': 'Базы данных',\n",
       " '5': 'Вычислительные системы и сетевые телекоммуникации',\n",
       " '6': 'Дискретная математика',\n",
       " '7': 'Институциональная экономика',\n",
       " '8': 'Информационная безопасность',\n",
       " '9': 'Информационные системы и технологии',\n",
       " '10': 'Корпоративные информационные системы',\n",
       " '11': 'Линейная алгебра',\n",
       " '12': 'Макроэкономика',\n",
       " '13': 'Математический анализ',\n",
       " '14': 'Микроэкономика',\n",
       " '15': 'Программированиие облачных приложений',\n",
       " '16': 'Программная инженерия',\n",
       " '17': 'Реинжиниринг бизнес-процессов',\n",
       " '18': 'Современные языки программирования',\n",
       " '19': 'Философия',\n",
       " '20': 'Функциональное программирование'}"
      ]
     },
     "execution_count": 5,
     "metadata": {},
     "output_type": "execute_result"
    }
   ],
   "source": [
    "subjects"
   ]
  },
  {
   "cell_type": "code",
   "execution_count": 6,
   "metadata": {},
   "outputs": [
    {
     "data": {
      "text/plain": [
       "OrderedDict([('id', '1'), ('name', 'ПИ1-1'), ('entry_year', '2018')])"
      ]
     },
     "execution_count": 6,
     "metadata": {},
     "output_type": "execute_result"
    }
   ],
   "source": [
    "groups[0]"
   ]
  },
  {
   "cell_type": "code",
   "execution_count": 7,
   "metadata": {},
   "outputs": [
    {
     "data": {
      "text/plain": [
       "[OrderedDict([('id', '1'), ('name', 'ПИ1-1'), ('entry_year', '2018')]),\n",
       " OrderedDict([('id', '2'), ('name', 'ПИ1-2'), ('entry_year', '2018')]),\n",
       " OrderedDict([('id', '3'), ('name', 'ПИ1-3'), ('entry_year', '2018')]),\n",
       " OrderedDict([('id', '4'), ('name', 'ПИ1-4'), ('entry_year', '2018')]),\n",
       " OrderedDict([('id', '5'), ('name', 'ПМ1-1'), ('entry_year', '2018')]),\n",
       " OrderedDict([('id', '6'), ('name', 'ПМ1-2'), ('entry_year', '2018')]),\n",
       " OrderedDict([('id', '7'), ('name', 'ПМ1-3'), ('entry_year', '2018')]),\n",
       " OrderedDict([('id', '8'), ('name', 'ПМ1-4'), ('entry_year', '2018')]),\n",
       " OrderedDict([('id', '9'), ('name', 'ПИ2-2'), ('entry_year', '2017')]),\n",
       " OrderedDict([('id', '10'), ('name', 'ПМ1-5'), ('entry_year', '2018')]),\n",
       " OrderedDict([('id', '13'), ('name', 'ПИ4-1'), ('entry_year', '2015')]),\n",
       " OrderedDict([('id', '14'), ('name', 'ПИ4-2'), ('entry_year', '2015')]),\n",
       " OrderedDict([('id', '15'), ('name', 'ПИ4-3'), ('entry_year', '2015')])]"
      ]
     },
     "execution_count": 7,
     "metadata": {},
     "output_type": "execute_result"
    }
   ],
   "source": [
    "groups"
   ]
  },
  {
   "cell_type": "code",
   "execution_count": 8,
   "metadata": {},
   "outputs": [
    {
     "data": {
      "text/plain": [
       "OrderedDict([('id', '1'),\n",
       "             ('last_name', 'Милованов'),\n",
       "             ('first_name', 'Даниил'),\n",
       "             ('middle_name', 'Михайлович'),\n",
       "             ('students', []),\n",
       "             ('groups', set()),\n",
       "             ('subjects', set())])"
      ]
     },
     "execution_count": 8,
     "metadata": {},
     "output_type": "execute_result"
    }
   ],
   "source": [
    "teachers[0]"
   ]
  },
  {
   "cell_type": "code",
   "execution_count": 9,
   "metadata": {},
   "outputs": [
    {
     "data": {
      "text/plain": [
       "OrderedDict([('id', '1'),\n",
       "             ('subject', '1'),\n",
       "             ('student_id', '151301'),\n",
       "             ('teacher_id', '7'),\n",
       "             ('att1', '19'),\n",
       "             ('att2', '13'),\n",
       "             ('exam', '48'),\n",
       "             ('total', '80')])"
      ]
     },
     "execution_count": 9,
     "metadata": {},
     "output_type": "execute_result"
    }
   ],
   "source": [
    "results[0]"
   ]
  },
  {
   "cell_type": "code",
   "execution_count": 10,
   "metadata": {},
   "outputs": [],
   "source": [
    "for res in results:\n",
    "    teachers[int(res['teacher_id']) - 1]['students'].append(res['student_id'])\n",
    "    teachers[int(res['teacher_id']) - 1]['groups'].add(students[res['student_id']]['group_id'])\n",
    "    teachers[int(res['teacher_id']) - 1]['subjects'].add(res['subject'])"
   ]
  },
  {
   "cell_type": "code",
   "execution_count": 11,
   "metadata": {},
   "outputs": [
    {
     "name": "stdout",
     "output_type": "stream",
     "text": [
      "Teacher 1 groups {'5', '4', '10', '6', '7', '13', '3', '1', '14', '15', '2'}\n",
      "Teacher 2 groups {'4', '10', '13', '3', '1', '8', '14', '15'}\n",
      "Teacher 3 groups {'5', '4', '6', '9', '7', '10', '13', '3', '8', '2'}\n",
      "Teacher 4 groups {'5', '4', '10', '9', '7', '6', '3', '1', '8', '14', '15', '2'}\n",
      "Teacher 5 groups {'5', '4', '6', '10', '7', '9', '13', '3', '1', '8', '15', '2'}\n",
      "Teacher 6 groups {'5', '4', '6', '7', '9', '13', '3', '1', '8', '14', '15'}\n",
      "Teacher 7 groups {'4', '6', '9', '7', '13', '3', '1', '8', '15', '2'}\n",
      "Teacher 8 groups {'4', '10', '9', '6', '7', '13', '3', '1', '8', '14', '15', '2'}\n",
      "Teacher 9 groups {'5', '4', '10', '9', '7', '6', '13', '3', '1', '8', '14', '15', '2'}\n",
      "Teacher 10 groups {'5', '4', '7', '9', '13', '3', '1', '8', '14', '15', '2'}\n",
      "Teacher 11 groups {'10', '9', '7', '6', '13', '3', '8', '14', '15', '2'}\n"
     ]
    }
   ],
   "source": [
    "for teacher in teachers:\n",
    "    print('Teacher {} groups {}'.format(teacher['id'], teacher['groups']))"
   ]
  },
  {
   "cell_type": "code",
   "execution_count": 12,
   "metadata": {},
   "outputs": [
    {
     "name": "stdout",
     "output_type": "stream",
     "text": [
      "Teacher 1 subjects {'5', '4', '18', '6', '10', '12', '13', '3', '1', '11', '8', '20', '14', '19', '2'}\n",
      "Teacher 2 subjects {'16', '17', '13', '3', '11', '8', '20', '14', '19', '2'}\n",
      "Teacher 3 subjects {'4', '16', '18', '6', '10', '12', '13', '3', '19', '1', '11', '20', '14', '15', '2'}\n",
      "Teacher 4 subjects {'5', '4', '16', '18', '10', '7', '9', '17', '12', '13', '3', '1', '11', '8', '14', '19', '2'}\n",
      "Teacher 5 subjects {'5', '4', '18', '6', '7', '9', '17', '12', '13', '3', '1', '11', '15', '2'}\n",
      "Teacher 6 subjects {'4', '16', '18', '6', '7', '9', '10', '13', '3', '1', '20', '8', '14', '15', '12'}\n",
      "Teacher 7 subjects {'5', '4', '16', '6', '7', '9', '17', '13', '1', '20', '8', '14', '15', '2'}\n",
      "Teacher 8 subjects {'5', '4', '16', '18', '10', '7', '9', '17', '12', '13', '3', '1', '11', '8', '20', '14', '15', '2'}\n",
      "Teacher 9 subjects {'5', '4', '16', '6', '1', '14', '15', '10', '9', '17', '13', '3', '8', '18', '7', '11', '20', '19', '12'}\n",
      "Teacher 10 subjects {'4', '18', '6', '7', '10', '17', '12', '13', '19', '1', '20', '8', '14', '15', '2'}\n",
      "Teacher 11 subjects {'5', '18', '7', '9', '12', '13', '3', '19', '11', '8', '20', '15', '2'}\n"
     ]
    }
   ],
   "source": [
    "for teacher in teachers:\n",
    "    print('Teacher {} subjects {}'.format(teacher['id'], teacher['subjects']))"
   ]
  },
  {
   "cell_type": "markdown",
   "metadata": {},
   "source": [
    "1. Написать функцию, которая принимает id преподавателя и id группы. Функция возвращает False, если данный преподаватель не преподавал у данной группы, None, если такого прподавателя не существует, иначе возвращается словарь, в котором ключами являются наименования предметов, а значениями словари, которые хранят в себе информации о количестве студентов, сдавших на 5, 4, 3 и 2 по данному предмету."
   ]
  },
  {
   "cell_type": "code",
   "execution_count": 245,
   "metadata": {},
   "outputs": [
    {
     "data": {
      "text/plain": [
       "False"
      ]
     },
     "execution_count": 245,
     "metadata": {},
     "output_type": "execute_result"
    }
   ],
   "source": [
    "5.09 in teachers[0]['groups']"
   ]
  },
  {
   "cell_type": "code",
   "execution_count": 13,
   "metadata": {},
   "outputs": [],
   "source": [
    "def f1(id_teach, id_group):\n",
    "    try:\n",
    "        teacher = teachers[id_teach - 1] \n",
    "    except IndexError:\n",
    "        return None\n",
    "    \n",
    "    if str(id_group) not in teacher['groups']:\n",
    "        return False\n",
    "    \n",
    "    data = {}\n",
    "    for res in results:\n",
    "        if res['teacher_id'] == str(id_teach) and students[res['student_id']]['group_id'] == str(id_group):\n",
    "            if subjects[res['subject']] not in data.keys():\n",
    "                data['{}'.format(subjects[res['subject']])] = {'5': 0, '4': 0, '3': 0, '2': 0} \n",
    "                \n",
    "            key = ''\n",
    "            if int(res['total']) >= 80:\n",
    "                key = '5'\n",
    "            elif int(res['total']) >= 65:\n",
    "                key = '4'\n",
    "            elif int(res['total']) >= 50:\n",
    "                key = '3'\n",
    "            else:\n",
    "                key = '2'\n",
    "            \n",
    "            data['{}'.format(subjects[res['subject']])][key] += 1\n",
    "    return data"
   ]
  },
  {
   "cell_type": "code",
   "execution_count": 14,
   "metadata": {},
   "outputs": [
    {
     "data": {
      "text/plain": [
       "{'1', '10', '13', '14', '15', '2', '3', '4', '5', '6', '7'}"
      ]
     },
     "execution_count": 14,
     "metadata": {},
     "output_type": "execute_result"
    }
   ],
   "source": [
    "teachers[0]['groups']"
   ]
  },
  {
   "cell_type": "code",
   "execution_count": 15,
   "metadata": {},
   "outputs": [
    {
     "data": {
      "text/plain": [
       "False"
      ]
     },
     "execution_count": 15,
     "metadata": {},
     "output_type": "execute_result"
    }
   ],
   "source": [
    "f1(1, 8)"
   ]
  },
  {
   "cell_type": "code",
   "execution_count": 16,
   "metadata": {},
   "outputs": [
    {
     "data": {
      "text/plain": [
       "'None'"
      ]
     },
     "execution_count": 16,
     "metadata": {},
     "output_type": "execute_result"
    }
   ],
   "source": [
    "str(f1(100, 2))"
   ]
  },
  {
   "cell_type": "code",
   "execution_count": 17,
   "metadata": {},
   "outputs": [
    {
     "data": {
      "text/plain": [
       "{'1', '10', '13', '14', '15', '3', '4', '8'}"
      ]
     },
     "execution_count": 17,
     "metadata": {},
     "output_type": "execute_result"
    }
   ],
   "source": [
    "teachers[1]['groups']"
   ]
  },
  {
   "cell_type": "code",
   "execution_count": 18,
   "metadata": {},
   "outputs": [
    {
     "data": {
      "text/plain": [
       "{'Философия': {'5': 1, '4': 4, '3': 4, '2': 9}}"
      ]
     },
     "execution_count": 18,
     "metadata": {},
     "output_type": "execute_result"
    }
   ],
   "source": [
    "f1(2, 15)"
   ]
  },
  {
   "cell_type": "code",
   "execution_count": 19,
   "metadata": {},
   "outputs": [
    {
     "data": {
      "text/plain": [
       "{'1', '10', '13', '14', '15', '3', '4', '8'}"
      ]
     },
     "execution_count": 19,
     "metadata": {},
     "output_type": "execute_result"
    }
   ],
   "source": [
    "teachers[1]['groups']"
   ]
  },
  {
   "cell_type": "code",
   "execution_count": 20,
   "metadata": {},
   "outputs": [
    {
     "data": {
      "text/plain": [
       "{'Институциональная экономика': {'5': 2, '4': 2, '3': 3, '2': 11}}"
      ]
     },
     "execution_count": 20,
     "metadata": {},
     "output_type": "execute_result"
    }
   ],
   "source": [
    "f1(4, 15)"
   ]
  },
  {
   "cell_type": "code",
   "execution_count": 21,
   "metadata": {},
   "outputs": [
    {
     "data": {
      "text/plain": [
       "{'Информационные системы и технологии': {'5': 3, '4': 6, '3': 9, '2': 9},\n",
       " 'Современные языки программирования': {'5': 6, '4': 5, '3': 5, '2': 11}}"
      ]
     },
     "execution_count": 21,
     "metadata": {},
     "output_type": "execute_result"
    }
   ],
   "source": [
    "f1(5, 1)"
   ]
  },
  {
   "cell_type": "markdown",
   "metadata": {},
   "source": [
    "2. Написать функцию, которая принимает ФИО преподавателя и необязательный параметр to_json, который по умолчанию равен False и принимает имя файла. Если указан параметр to_json, то он должен сохранить итоговый результат в данный файл и вернуть значение True, иначе просто вернуть словарь. В словаре ключами являются наименования групп, в которых он преподавал, а значениям - результат выполнения первой функции."
   ]
  },
  {
   "cell_type": "code",
   "execution_count": 22,
   "metadata": {},
   "outputs": [],
   "source": [
    "def f2(teach_fio, to_json=False): \n",
    "    flag = 0\n",
    "    for teacher in teachers:\n",
    "        if ' '.join([teacher['last_name'], teacher['first_name'], teacher['middle_name']]) == teach_fio:\n",
    "            flag = 1\n",
    "            break\n",
    "    \n",
    "    if to_json:\n",
    "        # save to file\n",
    "        return True\n",
    "    elif flag:\n",
    "        data = {}\n",
    "        for i in teacher['groups']:\n",
    "            data[i] = f1(int(teacher['id']), i)\n",
    "        return data\n",
    "    else:\n",
    "        print('Teacher not found')\n",
    "        return None"
   ]
  },
  {
   "cell_type": "code",
   "execution_count": 23,
   "metadata": {},
   "outputs": [
    {
     "data": {
      "text/plain": [
       "{'5': {'Информационная безопасность': {'5': 3, '4': 10, '3': 4, '2': 9},\n",
       "  'Корпоративные информационные системы': {'5': 2, '4': 6, '3': 8, '2': 10}},\n",
       " '4': {'Линейная алгебра': {'5': 3, '4': 4, '3': 10, '2': 9},\n",
       "  'Современные языки программирования': {'5': 3, '4': 7, '3': 9, '2': 7}},\n",
       " '10': {'Английский язык': {'5': 5, '4': 7, '3': 3, '2': 10}},\n",
       " '6': {'Web-программирование': {'5': 4, '4': 9, '3': 4, '2': 7},\n",
       "  'Вычислительные системы и сетевые телекоммуникации': {'5': 1,\n",
       "   '4': 8,\n",
       "   '3': 3,\n",
       "   '2': 12},\n",
       "  'Дискретная математика': {'5': 3, '4': 6, '3': 6, '2': 9}},\n",
       " '7': {'Алгоритмы и структуры данных': {'5': 1, '4': 9, '3': 9, '2': 5},\n",
       "  'Базы данных': {'5': 4, '4': 9, '3': 8, '2': 3},\n",
       "  'Дискретная математика': {'5': 5, '4': 6, '3': 3, '2': 10},\n",
       "  'Микроэкономика': {'5': 5, '4': 5, '3': 5, '2': 9},\n",
       "  'Функциональное программирование': {'5': 2, '4': 10, '3': 4, '2': 8}},\n",
       " '13': {'Макроэкономика': {'5': 2, '4': 5, '3': 2, '2': 9},\n",
       "  'Математический анализ': {'5': 2, '4': 9, '3': 3, '2': 4}},\n",
       " '3': {'Дискретная математика': {'5': 5, '4': 5, '3': 7, '2': 9}},\n",
       " '1': {'Web-программирование': {'5': 4, '4': 6, '3': 6, '2': 11},\n",
       "  'Микроэкономика': {'5': 3, '4': 11, '3': 5, '2': 8},\n",
       "  'Философия': {'5': 1, '4': 7, '3': 8, '2': 11}},\n",
       " '14': {'Вычислительные системы и сетевые телекоммуникации': {'5': 1,\n",
       "   '4': 4,\n",
       "   '3': 7,\n",
       "   '2': 7},\n",
       "  'Корпоративные информационные системы': {'5': 4, '4': 5, '3': 4, '2': 6}},\n",
       " '15': {'Функциональное программирование': {'5': 2, '4': 6, '3': 5, '2': 5}},\n",
       " '2': {'Математический анализ': {'5': 4, '4': 10, '3': 4, '2': 7},\n",
       "  'Философия': {'5': 0, '4': 9, '3': 4, '2': 12}}}"
      ]
     },
     "execution_count": 23,
     "metadata": {},
     "output_type": "execute_result"
    }
   ],
   "source": [
    "f2('Милованов Даниил Михайлович')"
   ]
  },
  {
   "cell_type": "markdown",
   "metadata": {},
   "source": [
    "3. Реализовать функцию, которая принимает параметры entry_year - год поступления, subject_name - наименование предмета и необязаиельный параметр to_json, по умолчанию равный False. Функция должна возвращать словарь со статистикой по группам по данному предмету. Ключами словаря являются id группы, а значениями словари. Внутренний словарь имеет ключи group_name (наименование группы), stats (статистика). Значением ключа статистика является словарь, который возвращает количество студентов получившие оценку 5, количество студентов получившие оценку 4, количество студентов получившие оценку 3, количество студентов получившие оценку 2. Если параметр to_json указан, то сохраняет полученный словарь в указанный файл и возвращает True, иначе просто возвращает словарь."
   ]
  },
  {
   "cell_type": "code",
   "execution_count": 298,
   "metadata": {},
   "outputs": [],
   "source": [
    "def f3(entry_year, subject_name, to_json=False):\n",
    "    if to_json:\n",
    "        # save to file\n",
    "        return True\n",
    "    \n",
    "    data = {}\n",
    "    group_ids = [g['id'] for g in groups if g['entry_year'] == str(entry_year)]\n",
    "    group_names = {g['id']: g['name'] for g in groups if g['entry_year'] == str(entry_year)}\n",
    "    for res in results:\n",
    "        if subjects[res['subject']] == subject_name and students[res['student_id']]['group_id'] in group_ids:\n",
    "            group_id = students[res['student_id']]['group_id']\n",
    "            \n",
    "            if group_id not in data.keys():\n",
    "                data[group_id] = {'group_name': group_names[str(group_id)], 'stats': {'5': 0, '4': 0, '3': 0, '2': 0}}\n",
    "                \n",
    "            if int(res['total']) >= 80:\n",
    "                key = '5'\n",
    "            elif int(res['total']) >= 65:\n",
    "                key = '4'\n",
    "            elif int(res['total']) >= 50:\n",
    "                key = '3'\n",
    "            else:\n",
    "                key = '2'\n",
    "                \n",
    "            data[group_id]['stats'][key] += 1                 \n",
    "    \n",
    "    return data"
   ]
  },
  {
   "cell_type": "code",
   "execution_count": 299,
   "metadata": {},
   "outputs": [
    {
     "data": {
      "text/plain": [
       "{'13': {'group_name': 'ПИ4-1', 'stats': {'5': 0, '4': 5, '3': 5, '2': 8}},\n",
       " '15': {'group_name': 'ПИ4-3', 'stats': {'5': 1, '4': 4, '3': 4, '2': 9}},\n",
       " '14': {'group_name': 'ПИ4-2', 'stats': {'5': 1, '4': 5, '3': 8, '2': 5}}}"
      ]
     },
     "execution_count": 299,
     "metadata": {},
     "output_type": "execute_result"
    }
   ],
   "source": [
    "f3('2015', 'Философия')"
   ]
  },
  {
   "cell_type": "code",
   "execution_count": 300,
   "metadata": {},
   "outputs": [
    {
     "data": {
      "text/plain": [
       "{'1': {'group_name': 'ПИ1-1', 'stats': {'5': 5, '4': 10, '3': 4, '2': 8}},\n",
       " '5': {'group_name': 'ПМ1-1', 'stats': {'5': 4, '4': 4, '3': 8, '2': 10}},\n",
       " '7': {'group_name': 'ПМ1-3', 'stats': {'5': 3, '4': 10, '3': 6, '2': 5}},\n",
       " '2': {'group_name': 'ПИ1-2', 'stats': {'5': 0, '4': 8, '3': 10, '2': 7}},\n",
       " '3': {'group_name': 'ПИ1-3', 'stats': {'5': 2, '4': 6, '3': 9, '2': 9}},\n",
       " '8': {'group_name': 'ПМ1-4', 'stats': {'5': 1, '4': 5, '3': 7, '2': 12}},\n",
       " '10': {'group_name': 'ПМ1-5', 'stats': {'5': 5, '4': 7, '3': 3, '2': 10}},\n",
       " '4': {'group_name': 'ПИ1-4', 'stats': {'5': 2, '4': 9, '3': 4, '2': 11}},\n",
       " '6': {'group_name': 'ПМ1-2', 'stats': {'5': 4, '4': 4, '3': 9, '2': 7}}}"
      ]
     },
     "execution_count": 300,
     "metadata": {},
     "output_type": "execute_result"
    }
   ],
   "source": [
    "f3('2018', 'Английский язык')"
   ]
  },
  {
   "cell_type": "markdown",
   "metadata": {},
   "source": [
    "1. Реализовать функцию, которая по уникальному идентификатору студента возвращает его сумму баллов по каждому из контрольных мероприятий, в том числе total\n"
   ]
  },
  {
   "cell_type": "code",
   "execution_count": 24,
   "metadata": {},
   "outputs": [],
   "source": [
    "def f4(student_id):\n",
    "    summ = {'att1': 0, 'att2': 0, 'exam': 0, 'total': 0}\n",
    "    for res in results:\n",
    "        if res['student_id'] == str(student_id):\n",
    "            summ['att1'] += int(res['att1'])\n",
    "            summ['att2'] += int(res['att2'])\n",
    "            summ['exam'] += int(res['exam'])\n",
    "            summ['total'] += int(res['total'])\n",
    "            \n",
    "    return summ"
   ]
  },
  {
   "cell_type": "code",
   "execution_count": 25,
   "metadata": {},
   "outputs": [
    {
     "data": {
      "text/plain": [
       "{'att1': 252, 'att2': 279, 'exam': 510, 'total': 1041}"
      ]
     },
     "execution_count": 25,
     "metadata": {},
     "output_type": "execute_result"
    }
   ],
   "source": [
    "f4('151301')"
   ]
  },
  {
   "cell_type": "markdown",
   "metadata": {},
   "source": [
    "2. Реализовать функцию, которая принимает параметры thread - поток в виде (ПИ2018), где буквами является наименование направления, а число - год поступления, необязательный параметр test, который по умолчанию равен total (список возможных значений att1, att2, exam, total), а также необязательный параметр to_json=False. Если параметр указан, то результат выполнения функции должен записываться в файл и функция возвращает True, если такого потока не существует, то возвращает None, иначе возвращает результат функции. Результатом выполнения функции является словарь с рейтингом студентов по указанному из периодов в параметре test. Ключом словаря является место студента в рейтинге, значением - словарь с информацией из файла students.csv, а также информацию, которая возвращается после выполнения первой функции.\n"
   ]
  },
  {
   "cell_type": "code",
   "execution_count": 29,
   "metadata": {},
   "outputs": [],
   "source": [
    "def f5(thread, test='total', to_json=False):\n",
    "    for g in groups:\n",
    "        exist = (thread[:-4] in g['name'] and g['entry_year']==thread[-4:])\n",
    "        if exist:\n",
    "            break\n",
    "    if to_json:\n",
    "        # write to file\n",
    "        return True\n",
    "    elif not exist:\n",
    "        return None\n",
    "    else:\n",
    "        data = {}\n",
    "        tmp_data = []\n",
    "        for student in students.values():\n",
    "            for g in groups:\n",
    "                if g['id'] == student['group_id']:\n",
    "                    g_name = g['name']\n",
    "                    g_year = g['entry_year']\n",
    "                    break\n",
    "            if thread[:-4] in g_name and g_year == thread[-4:]:\n",
    "                    tmp_data.append(f4(student['id']))\n",
    "                    tmp_data[-1]['student_id'] = student['id']\n",
    "                    \n",
    "        # try test is a str\n",
    "        try:\n",
    "            sorted_arr = sorted(tmp_data, key=lambda a: int(a[test]), reverse=True)\n",
    "        except KeyError:\n",
    "            print('{} doesnt exist'.format(test))\n",
    "            return None\n",
    "        \n",
    "        for i, el in enumerate(sorted_arr):\n",
    "            data[i+1] = students[el['student_id']]\n",
    "            data[i+1][test] = el[test]\n",
    "                \n",
    "        return data"
   ]
  },
  {
   "cell_type": "code",
   "execution_count": 27,
   "metadata": {},
   "outputs": [
    {
     "name": "stdout",
     "output_type": "stream",
     "text": [
      "1 OrderedDict([('id', '180323'), ('last_name', 'Спанкулов'), ('first_name', 'Данила'), ('group_id', '3'), ('total', 1328)])\n",
      "2 OrderedDict([('id', '180318'), ('last_name', 'Павлов'), ('first_name', 'Артём'), ('group_id', '3'), ('total', 1327)])\n",
      "3 OrderedDict([('id', '180106'), ('last_name', 'Борисов'), ('first_name', 'Михаил'), ('group_id', '1'), ('total', 1273)])\n",
      "4 OrderedDict([('id', '180404'), ('last_name', 'Борисенко'), ('first_name', 'Никита\\xa0'), ('group_id', '4'), ('total', 1272)])\n",
      "5 OrderedDict([('id', '180112'), ('last_name', 'Златински'), ('first_name', 'Кирил'), ('group_id', '1'), ('total', 1272)])\n",
      "6 OrderedDict([('id', '180103'), ('last_name', 'Балашов'), ('first_name', 'Михаил'), ('group_id', '1'), ('total', 1254)])\n",
      "7 OrderedDict([('id', '180206'), ('last_name', 'Горяев'), ('first_name', 'Сангаджи\\xa0'), ('group_id', '2'), ('total', 1254)])\n",
      "8 OrderedDict([('id', '180407'), ('last_name', 'Горячев'), ('first_name', 'Рустам\\xa0'), ('group_id', '4'), ('total', 1253)])\n",
      "9 OrderedDict([('id', '180201'), ('last_name', 'Акаев'), ('first_name', 'Ислам\\xa0'), ('group_id', '2'), ('total', 1251)])\n",
      "10 OrderedDict([('id', '180101'), ('last_name', 'Абдуллина'), ('first_name', 'Дария'), ('group_id', '1'), ('total', 1248)])\n"
     ]
    }
   ],
   "source": [
    "rating = f5('ПИ2018')\n",
    "for i in range(10):\n",
    "    print(i+1, rating[i+1])"
   ]
  },
  {
   "cell_type": "code",
   "execution_count": 30,
   "metadata": {},
   "outputs": [
    {
     "name": "stdout",
     "output_type": "stream",
     "text": [
      "lol doesnt exist\n"
     ]
    }
   ],
   "source": [
    "f5('ПИ2018', test='lol')"
   ]
  },
  {
   "cell_type": "markdown",
   "metadata": {},
   "source": [
    "3. Написать функцию, которая принимает  имя группы, год поступления и наименование предмета. Также функция принимает необязательный параметр to_json, который по умолчанию равен False и принимает имя файла. Функция должна вернуть словарь, которая содержит оценки всех студентов данной группы по данному предмету. Ключом является id студента, значением словарь, который содержит полное имя студента и итоговый балл.  Если to_json указывает имя файла, то сохранить результаты в файл и функция возвращает значение True, иначе возвращает получившийся словарь."
   ]
  },
  {
   "cell_type": "code",
   "execution_count": 210,
   "metadata": {},
   "outputs": [],
   "source": [
    "def make_full_name(student):\n",
    "    # todo\n",
    "    # на вход например students['151301']\n",
    "    # на выход его полное в виде 'Андрей Абарыков'\n",
    "    return name\n",
    "    \n",
    "def f6(group_name, entry_year, subj_name, to_json=False):\n",
    "    if to_json:\n",
    "        # save to file\n",
    "        return True\n",
    "    else:\n",
    "        data = {}\n",
    "        for res in results:\n",
    "            for g in groups:\n",
    "                if g['id'] == students[res['student_id']['group_id']]:\n",
    "                    curr_group_name = g['name']\n",
    "                    curr_group_year = g['entry_year']\n",
    "                    break\n",
    "            if curr_group_name == group_name and curr_group_year == entry_year and subjects[res['subject']] == subj_name:\n",
    "                data[res['student_id']] = {'student_name': make_full_name(students[res['student_id']]), 'total': res['total']}\n",
    "        return data"
   ]
  },
  {
   "cell_type": "code",
   "execution_count": null,
   "metadata": {},
   "outputs": [],
   "source": []
  }
 ],
 "metadata": {
  "kernelspec": {
   "display_name": "Python 3",
   "language": "python",
   "name": "python3"
  },
  "language_info": {
   "codemirror_mode": {
    "name": "ipython",
    "version": 3
   },
   "file_extension": ".py",
   "mimetype": "text/x-python",
   "name": "python",
   "nbconvert_exporter": "python",
   "pygments_lexer": "ipython3",
   "version": "3.8.3"
  }
 },
 "nbformat": 4,
 "nbformat_minor": 4
}
