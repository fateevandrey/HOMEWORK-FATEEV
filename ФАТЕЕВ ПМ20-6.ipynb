{
 "cells": [
  {
   "cell_type": "markdown",
   "metadata": {},
   "source": [
    "# Регулярные выражения. Задания"
   ]
  },
  {
   "cell_type": "markdown",
   "metadata": {},
   "source": [
    "1) Дана строка 'aaa--bbb==ccc__ddd'. Написать регулярное выражение для разбивки строки на список ['aaa','bbb','ccc','ddd']."
   ]
  },
  {
   "cell_type": "code",
   "execution_count": 4,
   "metadata": {},
   "outputs": [],
   "source": [
    "import re\n",
    "from re import *"
   ]
  },
  {
   "cell_type": "code",
   "execution_count": 8,
   "metadata": {},
   "outputs": [
    {
     "name": "stdout",
     "output_type": "stream",
     "text": [
      "['aaa', 'bbb', 'cccddd']\n"
     ]
    }
   ],
   "source": [
    "result = re.split(r'--|==|__', 'aaa--bbb==cccddd')\n",
    "print(result)"
   ]
  },
  {
   "cell_type": "markdown",
   "metadata": {},
   "source": [
    "2) Получить первое слово из произвольной строки. Например, для 'Yesterday, All my troubles seemed so far away' должно возвращаться 'Yesterday'."
   ]
  },
  {
   "cell_type": "code",
   "execution_count": 9,
   "metadata": {},
   "outputs": [
    {
     "data": {
      "text/plain": [
       "'Yesterday'"
      ]
     },
     "execution_count": 9,
     "metadata": {},
     "output_type": "execute_result"
    }
   ],
   "source": [
    "arg = 'Yesterday, All my troubles seemed so far away'\n",
    "pattern = re.compile(r'^[a-zA-Z]+\\b')\n",
    "pattern.match(arg).group()"
   ]
  },
  {
   "cell_type": "markdown",
   "metadata": {},
   "source": [
    "3) Получить последнее слово из произвольной строки."
   ]
  },
  {
   "cell_type": "code",
   "execution_count": 10,
   "metadata": {},
   "outputs": [
    {
     "data": {
      "text/plain": [
       "'away'"
      ]
     },
     "execution_count": 10,
     "metadata": {},
     "output_type": "execute_result"
    }
   ],
   "source": [
    "pattern = re.compile(r'[a-zA-Z]+$')\n",
    "pattern.search(arg).group()"
   ]
  },
  {
   "cell_type": "markdown",
   "metadata": {},
   "source": [
    "4) В следующем отрывке найти все слова, которые начинаются на гласную букву:"
   ]
  },
  {
   "cell_type": "code",
   "execution_count": 12,
   "metadata": {},
   "outputs": [
    {
     "name": "stdout",
     "output_type": "stream",
     "text": [
      "['admire', 'and', 'a', 'attendance', 'and', 'and', 'a', 'away'] ['uncle'] ['example'] ['one', 'others'] ['ideals', 'inspire']\n"
     ]
    }
   ],
   "source": [
    "sent = '''My uncle -- high ideals inspire him;\n",
    "but when past joking he fell sick,\n",
    "he really forced one to admire him --\n",
    "and never played a shrewder trick.\n",
    "Let others learn from his example!\n",
    "But God, how deadly dull to sample\n",
    "sickroom attendance night and day\n",
    "and never stir a foot away!'''\n",
    "pattern1 = re.findall(r\"\\ba\\w*\\b\", sent)\n",
    "pattern2 = re.findall(r\"\\bu\\w*\\b\", sent)\n",
    "pattern3 = re.findall(r\"\\be\\w*\\b\", sent)\n",
    "pattern4 = re.findall(r\"\\bo\\w*\\b\", sent)\n",
    "pattern5 = re.findall(r\"\\bi\\w*\\b\", sent)\n",
    "print(pattern1, pattern2, pattern3, pattern4, pattern5)"
   ]
  },
  {
   "cell_type": "code",
   "execution_count": 192,
   "metadata": {},
   "outputs": [],
   "source": [
    "s= '''My uncle -- high ideals inspire him;\n",
    "but when past joking he fell sick,\n",
    "he really forced one to admire him --\n",
    "and never played a shrewder trick.\n",
    "Let others learn from his example!\n",
    "But God, how deadly dull to sample\n",
    "sickroom attendance night and day\n",
    "and never stir a foot away!'''"
   ]
  },
  {
   "cell_type": "markdown",
   "metadata": {},
   "source": [
    "5) В этом же отрывке найти первое слово каждой строки"
   ]
  },
  {
   "cell_type": "code",
   "execution_count": 14,
   "metadata": {},
   "outputs": [
    {
     "name": "stdout",
     "output_type": "stream",
     "text": [
      "['My ', 'but ', 'he ', 'and ', 'Let ', 'But ', 'sickroom ', 'and ']\n"
     ]
    }
   ],
   "source": [
    "pattern = re.compile(r'^\\w+\\s', re.MULTILINE)\n",
    "print(pattern.findall(sent))"
   ]
  },
  {
   "cell_type": "markdown",
   "metadata": {},
   "source": [
    "6) Проверить корректность введенного E-mail"
   ]
  },
  {
   "cell_type": "code",
   "execution_count": 22,
   "metadata": {},
   "outputs": [
    {
     "name": "stdout",
     "output_type": "stream",
     "text": [
      "qwerty@gmail.com\n",
      "Введен правильный e-mail:  qwerty@gmail.com\n"
     ]
    }
   ],
   "source": [
    "def address_():\n",
    "    pattern = re.compile('(^|\\s)[-a-z0-9_.]+@([-a-z0-9]+\\.)+[a-z]{2,6}(\\s|$)')\n",
    "    address = input()\n",
    "    out = pattern.match(address)\n",
    "    if out:\n",
    "        print('Введен правильный e-mail: ', out.group())\n",
    "    else:\n",
    "        print('Неправильный email!')\n",
    "address_()"
   ]
  },
  {
   "cell_type": "markdown",
   "metadata": {},
   "source": [
    "7) В следующей строке найти все email-адреса и вывести только доменные имена"
   ]
  },
  {
   "cell_type": "code",
   "execution_count": 43,
   "metadata": {},
   "outputs": [
    {
     "name": "stdout",
     "output_type": "stream",
     "text": [
      "Введитеe-mail: qwerty@gmail.com\n",
      "[]\n"
     ]
    }
   ],
   "source": [
    "def domen():\n",
    "    senten = input('Введитеe-mail: ')\n",
    "    pattern = re.compile(r'[ ]+')\n",
    "    split_ = re.split(pattern, senten)\n",
    "    output = re.compile(r'[\\w+]+@([\\w+]+.)+[\\w+]{2,6}')\n",
    "    for i in range(len(split_)):\n",
    "        out = output.match(split_[i])\n",
    "        if out:\n",
    "            pattern1= re.findall(r'\\w+.\\w+', senten[i])\n",
    "            out= str(pattern1[0:])\n",
    "            print(out)\n",
    "domen()"
   ]
  },
  {
   "cell_type": "markdown",
   "metadata": {},
   "source": [
    "8) Проверить корректность введенного номера мобильного телефона. Корректными считаются: <br>\n",
    "+7(999)999-99-99  <br>\n",
    "+7 (999) 999-99-99  <br>\n",
    "+7 999 999-99-99 <br>\n",
    "+7 999 999 99 99 <br>\n",
    "+79999999999"
   ]
  },
  {
   "cell_type": "code",
   "execution_count": null,
   "metadata": {},
   "outputs": [],
   "source": [
    "def phone():\n",
    "    pattern = re.compile(r'^+?\\w{1}[ ]?(?\\d{3})?[ ]?\\d{3}[- ]?\\d{2}[- ]?\\d{2}$')\n",
    "    number = input('Введите номер телефона: ')\n",
    "    output = pattern.match(number)\n",
    "    if output:\n",
    "        print('Номер введен корректно')\n",
    "    else:\n",
    "        print('Ошибка!')\n",
    "phone()"
   ]
  }
 ],
 "metadata": {
  "kernelspec": {
   "display_name": "Python 3",
   "language": "python",
   "name": "python3"
  },
  "language_info": {
   "codemirror_mode": {
    "name": "ipython",
    "version": 3
   },
   "file_extension": ".py",
   "mimetype": "text/x-python",
   "name": "python",
   "nbconvert_exporter": "python",
   "pygments_lexer": "ipython3",
   "version": "3.8.3"
  }
 },
 "nbformat": 4,
 "nbformat_minor": 2
}
