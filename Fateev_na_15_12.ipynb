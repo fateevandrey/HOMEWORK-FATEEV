{
 "cells": [
  {
   "cell_type": "raw",
   "metadata": {},
   "source": [
    "1) Функция принимает два кортежа из двух элементов – координаты точек. Вывести уравнение прямой, проходящей через заданные точки. Функция должна вызывать ошибку, если переданные данные в нее некорректны (кортежи имеют не 2 элемента, типы данных не float и не integer)\n"
   ]
  },
  {
   "cell_type": "code",
   "execution_count": 3,
   "metadata": {},
   "outputs": [
    {
     "data": {
      "text/plain": [
       "'-4y = -4x - 48'"
      ]
     },
     "execution_count": 3,
     "metadata": {},
     "output_type": "execute_result"
    }
   ],
   "source": [
    "import math\n",
    "def f1(p1, p2):\n",
    "    assert isinstance(p1, tuple) and isinstance(p2, tuple), \"Тип данных не float и не int\"\n",
    "    assert len(p1) == 2 and len(p2) == 2, \"Кортеж имеет не 2 элемента\"\n",
    "    for i in p1:\n",
    "        if not(isinstance(i, float) or isinstance(i, int)):\n",
    "            raise TypeError(\"Некорректный тип данных в 1 котреже\")\n",
    "    for i in p2:\n",
    "        if not(isinstance(i, float) or isinstance(i, int)):\n",
    "            raise TypeError(\"Некорректный тип данных во 2 котреже\")\n",
    "    x1 = p1[0]\n",
    "    y1 = p1[1]\n",
    "    x2 = p2[0]\n",
    "    y2 = p2[1]\n",
    "    ky = x1 - x2\n",
    "    kx = y1 - y2\n",
    "    b = x1 * y2 - x2 *y1\n",
    "    if b>0:\n",
    "        return f'{ky}y = {kx}x + {b}'\n",
    "    else:\n",
    "        return f'{ky}y = {kx}x - {-b}'\n",
    "f1((2, 14), (6, 18))"
   ]
  },
  {
   "cell_type": "raw",
   "metadata": {},
   "source": [
    "2) Реализовать функцию, которая вычисляет, сколько придется платить в месяц по кредиту и сколько всего отдать денег банку за весь период. Функция принимает обязательные аргументы p, n и необязательный параметр Boolean и необязательные параметры m, s. Если необязательный параметр Boolean равен True, то функция возвращает ежемесячный платеж и обязательно принимает параметр s, иначе возвращает всю сумму и обязательно принимает параметр m. Если данные параметры не передаются, вызывать ошибку. Функция должна иметь обработчик ошибок.\n"
   ]
  },
  {
   "cell_type": "code",
   "execution_count": 12,
   "metadata": {},
   "outputs": [
    {
     "name": "stdout",
     "output_type": "stream",
     "text": [
      "Сумма займа: 1000\n",
      "Процентная ставка: 55\n",
      "Расчетное времяя выплаты: 2\n",
      " 55040.95 $\n"
     ]
    }
   ],
   "source": [
    "def f2():\n",
    "    inter = 0\n",
    "    payments = 0\n",
    "    loan = 0\n",
    "    monthly = 0\n",
    "    duration = 0\n",
    "    Price = input(\"Сумма займа: \")\n",
    "    Rate = int(input(\"Процентная ставка: \"))\n",
    "    Time = input(\"Расчетное времяя выплаты: \")\n",
    "    duration = float(Time)\n",
    "    loan = float(Price)\n",
    "    inter = float(Rate)\n",
    "    payments = duration * 12\n",
    "    monthly = loan * inter * (1 + inter) * payments \\\n",
    "                    / ((1+ Rate) * payments - 1)\n",
    "    print(\" %.2f $\" % monthly)\n",
    "f2()"
   ]
  },
  {
   "cell_type": "raw",
   "metadata": {},
   "source": [
    "3) даны два списка и необходимо найти их совпадающие элементы, то есть область пересечения списков - элементы, которые присутствуют в обоих списках. Дополнительно: реализовать при помощи генератора. Дополнительно2: реализовать при помощи анонимной функции\n"
   ]
  },
  {
   "cell_type": "code",
   "execution_count": 19,
   "metadata": {},
   "outputs": [
    {
     "name": "stdout",
     "output_type": "stream",
     "text": [
      "['qwerq', 'cbvdfg', [312, 12, 213]]\n"
     ]
    }
   ],
   "source": [
    "def f3():\n",
    "    list_ = [216, 'qwerq', 213, 'ased', \"qweg\", 'cbvdfg', ['24', '22'], 'qwasda', [312, 12, 213]]\n",
    "    list2 = ['qwerq', '213', 'cbvdfg', 12, [312, 12, 213]]\n",
    "    match = []\n",
    "    for i in list_:\n",
    "        if i in match:\n",
    "            continue\n",
    "        for i2 in list2:\n",
    "            if i == i2:\n",
    "                match.append(i)\n",
    "                break\n",
    "    print(match)\n",
    "f3()"
   ]
  },
  {
   "cell_type": "raw",
   "metadata": {},
   "source": [
    "4) Отсортировать слова в строке по возрастанию их длины. Реализовать при помощи лямбда функции"
   ]
  },
  {
   "cell_type": "code",
   "execution_count": 20,
   "metadata": {},
   "outputs": [
    {
     "name": "stdout",
     "output_type": "stream",
     "text": [
      "['q', 'qw', 'wq', 'qwe', '12345', '1233456789101112', '1', 'qwertyu', '22', 'zxcvbvbnmvmcbmvmcbmc22']\n",
      "['q', '1', 'qw', 'wq', '22', 'qwe', '12345', 'qwertyu', '1233456789101112', 'zxcvbvbnmvmcbmvmcbmc22']\n"
     ]
    }
   ],
   "source": [
    "strangelist = ['q', 'qw', 'wq', 'qwe','12345','1233456789101112', '1', 'qwertyu', '22', 'zxcvbvbnmvmcbmvmcbmc22']\n",
    "print(strangelist)\n",
    "strangelist.sort(key = len)\n",
    "print(strangelist)"
   ]
  },
  {
   "cell_type": "raw",
   "metadata": {},
   "source": [
    "5) Посчитать количество одинаковых элементов в списке. Результатом является словарь. Реализовать при помощи анонимной функции.\n"
   ]
  },
  {
   "cell_type": "code",
   "execution_count": 23,
   "metadata": {},
   "outputs": [
    {
     "name": "stdout",
     "output_type": "stream",
     "text": [
      "Требуется ввести слово  qwe\n",
      "Требуется ввести слово  qwe\n",
      "Требуется ввести слово  qwe\n",
      "Требуется ввести слово  wq\n",
      "Требуется ввести слово  wq\n",
      "{'qwe': 3, 'wq': 2}\n"
     ]
    }
   ],
   "source": [
    "listner = []\n",
    "for i in range(5):\n",
    "    inputer = str(input('Требуется ввести слово  '))\n",
    "    listner.append(inputer)\n",
    "print(dict((x, listner.count(x)) for x in set(listner) if listner.count(x)> 1))"
   ]
  }
 ],
 "metadata": {
  "kernelspec": {
   "display_name": "Python 3",
   "language": "python",
   "name": "python3"
  },
  "language_info": {
   "codemirror_mode": {
    "name": "ipython",
    "version": 3
   },
   "file_extension": ".py",
   "mimetype": "text/x-python",
   "name": "python",
   "nbconvert_exporter": "python",
   "pygments_lexer": "ipython3",
   "version": "3.8.3"
  }
 },
 "nbformat": 4,
 "nbformat_minor": 4
}
